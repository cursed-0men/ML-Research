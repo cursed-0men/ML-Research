{
 "cells": [
  {
   "cell_type": "markdown",
   "metadata": {},
   "source": [
    "# FB-Prophet"
   ]
  },
  {
   "cell_type": "code",
   "execution_count": 39,
   "metadata": {},
   "outputs": [],
   "source": [
    "# FB-Prophet\n",
    "import pandas as pd\n",
    "from prophet import Prophet\n",
    "from sklearn.metrics import mean_squared_error, mean_absolute_error\n",
    "import numpy as np\n",
    "import os"
   ]
  },
  {
   "cell_type": "code",
   "execution_count": 40,
   "metadata": {},
   "outputs": [],
   "source": [
    "# Load dataset\n",
    "df = pd.read_csv(\"data/interpolated_co2.csv\")"
   ]
  },
  {
   "cell_type": "code",
   "execution_count": 41,
   "metadata": {},
   "outputs": [],
   "source": [
    "# Strip whitespace and rename properly\n",
    "df.rename(columns=lambda x: x.strip(), inplace=True)\n",
    "df.rename(columns={\"Date\": \"ds\", \"CO2\": \"y\"}, inplace=True)"
   ]
  },
  {
   "cell_type": "code",
   "execution_count": 42,
   "metadata": {},
   "outputs": [],
   "source": [
    "# Ensure proper types\n",
    "df['ds'] = pd.to_datetime(df['ds'], errors='coerce')\n",
    "df['y'] = pd.to_numeric(df['y'], errors='coerce')"
   ]
  },
  {
   "cell_type": "code",
   "execution_count": 43,
   "metadata": {},
   "outputs": [],
   "source": [
    "# Drop missing values\n",
    "df = df[['ds', 'y']].dropna()"
   ]
  },
  {
   "cell_type": "code",
   "execution_count": 44,
   "metadata": {},
   "outputs": [],
   "source": [
    "# Split data into training and testing sets\n",
    "train = df[df['ds'] <= '2024-12-31']\n",
    "test = df[(df['ds'] >= '2025-01-01') & (df['ds'] <= '2025-04-13')]"
   ]
  },
  {
   "cell_type": "code",
   "execution_count": 45,
   "metadata": {},
   "outputs": [],
   "source": [
    "# Training Prophet model with hyperparameter tuning\n",
    "model = Prophet(\n",
    "    changepoint_prior_scale=0.05,  # Allows the model to better fit the trend changes\n",
    "    seasonality_prior_scale=10.0,  # Controls seasonality flexibility\n",
    "    yearly_seasonality=True,       # CO2 emissions tend to have yearly seasonality\n",
    "    weekly_seasonality=False,      # If weekly seasonality isn't needed\n",
    "    daily_seasonality=False,       # If daily seasonality isn't needed\n",
    ")"
   ]
  },
  {
   "cell_type": "code",
   "execution_count": 46,
   "metadata": {},
   "outputs": [
    {
     "name": "stderr",
     "output_type": "stream",
     "text": [
      "15:29:33 - cmdstanpy - INFO - Chain [1] start processing\n",
      "15:29:36 - cmdstanpy - INFO - Chain [1] done processing\n"
     ]
    },
    {
     "data": {
      "text/plain": [
       "<prophet.forecaster.Prophet at 0x16907e790>"
      ]
     },
     "execution_count": 46,
     "metadata": {},
     "output_type": "execute_result"
    }
   ],
   "source": [
    "# Fit the model on the training data\n",
    "model.fit(train)"
   ]
  },
  {
   "cell_type": "code",
   "execution_count": 47,
   "metadata": {},
   "outputs": [],
   "source": [
    "# Make future dataframe and predictions\n",
    "future = model.make_future_dataframe(periods=len(test), freq='D')\n",
    "forecast = model.predict(future)"
   ]
  },
  {
   "cell_type": "code",
   "execution_count": 48,
   "metadata": {},
   "outputs": [],
   "source": [
    "# Filter predictions to test period\n",
    "forecast_test = forecast[forecast['ds'].isin(test['ds'])]"
   ]
  },
  {
   "cell_type": "code",
   "execution_count": 49,
   "metadata": {},
   "outputs": [],
   "source": [
    "# Metrics\n",
    "predicted = forecast_test['yhat'].values\n",
    "actual = test['y'].values"
   ]
  },
  {
   "cell_type": "code",
   "execution_count": 50,
   "metadata": {},
   "outputs": [],
   "source": [
    "# RMSE: Root Mean Squared Error\n",
    "rmse = np.sqrt(mean_squared_error(actual, predicted))\n",
    "\n",
    "# MAE: Mean Absolute Error\n",
    "mae = mean_absolute_error(actual, predicted)\n",
    "\n",
    "# Accuracy: Percentage of correct predictions\n",
    "accuracy = 100 - np.mean(np.abs((actual - predicted) / actual)) * 100"
   ]
  },
  {
   "cell_type": "code",
   "execution_count": 51,
   "metadata": {},
   "outputs": [
    {
     "name": "stdout",
     "output_type": "stream",
     "text": [
      "RMSE: 1.2008223951333519\n",
      "MAE: 0.9790045750232964\n",
      "Accuracy: 99.77%\n"
     ]
    }
   ],
   "source": [
    "print(f\"RMSE: {rmse}\")\n",
    "print(f\"MAE: {mae}\")\n",
    "print(f\"Accuracy: {accuracy:.2f}%\")"
   ]
  },
  {
   "cell_type": "code",
   "execution_count": 52,
   "metadata": {},
   "outputs": [
    {
     "name": "stdout",
     "output_type": "stream",
     "text": [
      "Predictions saved to Predictions/fb_predictions.csv\n"
     ]
    }
   ],
   "source": [
    "# Save predictions\n",
    "predictions_df = pd.DataFrame({\n",
    "    'Date': test['ds'],  # Use 'ds' for the Date column from test data\n",
    "    'Actual': test['y'].values,  # Actual CO2 values from the test set\n",
    "    'Predicted': forecast_test['yhat'].values  # Predicted CO2 values from the forecast\n",
    "})\n",
    "\n",
    "# Set 'Date' as the index\n",
    "predictions_df.set_index('Date', inplace=True)\n",
    "\n",
    "# Ensure the \"Predictions\" folder exists\n",
    "os.makedirs(\"Predictions\", exist_ok=True)\n",
    "\n",
    "# Save the predictions to a CSV file\n",
    "predictions_df.to_csv(\"Predictions/fb_predictions.csv\")\n",
    "\n",
    "print(\"Predictions saved to Predictions/fb_predictions.csv\")\n"
   ]
  }
 ],
 "metadata": {
  "kernelspec": {
   "display_name": "Python 3",
   "language": "python",
   "name": "python3"
  },
  "language_info": {
   "codemirror_mode": {
    "name": "ipython",
    "version": 3
   },
   "file_extension": ".py",
   "mimetype": "text/x-python",
   "name": "python",
   "nbconvert_exporter": "python",
   "pygments_lexer": "ipython3",
   "version": "3.9.6"
  }
 },
 "nbformat": 4,
 "nbformat_minor": 2
}
