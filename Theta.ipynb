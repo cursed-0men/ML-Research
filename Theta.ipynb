{
 "cells": [
  {
   "cell_type": "markdown",
   "metadata": {},
   "source": [
    "# Theta"
   ]
  },
  {
   "cell_type": "code",
   "execution_count": 41,
   "metadata": {},
   "outputs": [],
   "source": [
    "import pandas as pd\n",
    "import numpy as np\n",
    "from sklearn.metrics import mean_squared_error, mean_absolute_error\n",
    "from statsmodels.tsa.holtwinters import ExponentialSmoothing"
   ]
  },
  {
   "cell_type": "code",
   "execution_count": 43,
   "metadata": {},
   "outputs": [
    {
     "data": {
      "application/vnd.microsoft.datawrangler.viewer.v0+json": {
       "columns": [
        {
         "name": "Date",
         "rawType": "datetime64[ns]",
         "type": "datetime"
        },
        {
         "name": "CO2",
         "rawType": "float64",
         "type": "float"
        }
       ],
       "conversionMethod": "pd.DataFrame",
       "ref": "67b84222-7be8-4bab-919e-1bc6adf73f7f",
       "rows": [
        [
         "1974-05-19 00:00:00",
         "333.46"
        ],
        [
         "1974-05-20 00:00:00",
         "333.64"
        ],
        [
         "1974-05-21 00:00:00",
         "333.5"
        ],
        [
         "1974-05-22 00:00:00",
         "333.21"
        ],
        [
         "1974-05-23 00:00:00",
         "333.05"
        ]
       ],
       "shape": {
        "columns": 1,
        "rows": 5
       }
      },
      "text/html": [
       "<div>\n",
       "<style scoped>\n",
       "    .dataframe tbody tr th:only-of-type {\n",
       "        vertical-align: middle;\n",
       "    }\n",
       "\n",
       "    .dataframe tbody tr th {\n",
       "        vertical-align: top;\n",
       "    }\n",
       "\n",
       "    .dataframe thead th {\n",
       "        text-align: right;\n",
       "    }\n",
       "</style>\n",
       "<table border=\"1\" class=\"dataframe\">\n",
       "  <thead>\n",
       "    <tr style=\"text-align: right;\">\n",
       "      <th></th>\n",
       "      <th>CO2</th>\n",
       "    </tr>\n",
       "    <tr>\n",
       "      <th>Date</th>\n",
       "      <th></th>\n",
       "    </tr>\n",
       "  </thead>\n",
       "  <tbody>\n",
       "    <tr>\n",
       "      <th>1974-05-19</th>\n",
       "      <td>333.46</td>\n",
       "    </tr>\n",
       "    <tr>\n",
       "      <th>1974-05-20</th>\n",
       "      <td>333.64</td>\n",
       "    </tr>\n",
       "    <tr>\n",
       "      <th>1974-05-21</th>\n",
       "      <td>333.50</td>\n",
       "    </tr>\n",
       "    <tr>\n",
       "      <th>1974-05-22</th>\n",
       "      <td>333.21</td>\n",
       "    </tr>\n",
       "    <tr>\n",
       "      <th>1974-05-23</th>\n",
       "      <td>333.05</td>\n",
       "    </tr>\n",
       "  </tbody>\n",
       "</table>\n",
       "</div>"
      ],
      "text/plain": [
       "               CO2\n",
       "Date              \n",
       "1974-05-19  333.46\n",
       "1974-05-20  333.64\n",
       "1974-05-21  333.50\n",
       "1974-05-22  333.21\n",
       "1974-05-23  333.05"
      ]
     },
     "execution_count": 43,
     "metadata": {},
     "output_type": "execute_result"
    }
   ],
   "source": [
    "# Load your CSV file (update the file path as needed)\n",
    "df = pd.read_csv('data/interpolated_co2.csv')\n",
    "\n",
    "# Ensure the 'Date' column is in datetime format\n",
    "df['Date'] = pd.to_datetime(df['Date'])\n",
    "\n",
    "# Sort the dataset by date\n",
    "df.sort_values('Date', inplace=True)\n",
    "\n",
    "# Set 'Date' as the index\n",
    "df.set_index('Date', inplace=True)\n",
    "\n",
    "# Preview the data\n",
    "df.head()\n"
   ]
  },
  {
   "cell_type": "code",
   "execution_count": 44,
   "metadata": {},
   "outputs": [
    {
     "data": {
      "text/plain": [
       "(               CO2\n",
       " Date              \n",
       " 1974-05-19  333.46\n",
       " 1974-05-20  333.64\n",
       " 1974-05-21  333.50\n",
       " 1974-05-22  333.21\n",
       " 1974-05-23  333.05,\n",
       "                CO2\n",
       " Date              \n",
       " 2025-01-01  425.94\n",
       " 2025-01-02  426.27\n",
       " 2025-01-03  426.13\n",
       " 2025-01-04  426.03\n",
       " 2025-01-05  426.41)"
      ]
     },
     "execution_count": 44,
     "metadata": {},
     "output_type": "execute_result"
    }
   ],
   "source": [
    "# Split the data into training and testing sets\n",
    "train_data = df[df.index <= '2024-12-31']\n",
    "test_data = df[df.index > '2024-12-31']\n",
    "\n",
    "# Preview the split data\n",
    "train_data.head(), test_data.head()"
   ]
  },
  {
   "cell_type": "code",
   "execution_count": 45,
   "metadata": {},
   "outputs": [
    {
     "name": "stderr",
     "output_type": "stream",
     "text": [
      "/Users/lucifer/Library/Python/3.9/lib/python/site-packages/statsmodels/tsa/base/tsa_model.py:473: ValueWarning: No frequency information was provided, so inferred frequency D will be used.\n",
      "  self._init_dates(dates, freq)\n"
     ]
    }
   ],
   "source": [
    "# Initialize the Exponential Smoothing model\n",
    "model = ExponentialSmoothing(train_data['CO2'], trend='add', seasonal='add', seasonal_periods=12)\n",
    "\n",
    "# Fit the model\n",
    "fitted_model = model.fit()"
   ]
  },
  {
   "cell_type": "code",
   "execution_count": 46,
   "metadata": {},
   "outputs": [
    {
     "data": {
      "text/plain": [
       "2025-01-01    426.706268\n",
       "2025-01-02    426.714227\n",
       "2025-01-03    426.737784\n",
       "2025-01-04    426.742857\n",
       "2025-01-05    426.724425\n",
       "Freq: D, dtype: float64"
      ]
     },
     "execution_count": 46,
     "metadata": {},
     "output_type": "execute_result"
    }
   ],
   "source": [
    "# Make predictions for the period from 2025-01-01 to 2025-04-13\n",
    "forecast_start_date = '2025-01-01'\n",
    "forecast_end_date = '2025-04-13'\n",
    "\n",
    "forecast = fitted_model.predict(start=forecast_start_date, end=forecast_end_date)\n",
    "\n",
    "# Preview the forecast\n",
    "forecast.head()"
   ]
  },
  {
   "cell_type": "code",
   "execution_count": 47,
   "metadata": {},
   "outputs": [
    {
     "data": {
      "application/vnd.microsoft.datawrangler.viewer.v0+json": {
       "columns": [
        {
         "name": "index",
         "rawType": "datetime64[ns]",
         "type": "datetime"
        },
        {
         "name": "Date",
         "rawType": "datetime64[ns]",
         "type": "datetime"
        },
        {
         "name": "Actual",
         "rawType": "float64",
         "type": "float"
        },
        {
         "name": "Predicted",
         "rawType": "float64",
         "type": "float"
        }
       ],
       "conversionMethod": "pd.DataFrame",
       "ref": "36f64423-7f65-4fe3-8b32-2033883f91d0",
       "rows": [
        [
         "2025-01-01 00:00:00",
         "2025-01-01 00:00:00",
         "425.94",
         "426.7062684085046"
        ],
        [
         "2025-01-02 00:00:00",
         "2025-01-02 00:00:00",
         "426.27",
         "426.7142272323824"
        ],
        [
         "2025-01-03 00:00:00",
         "2025-01-03 00:00:00",
         "426.13",
         "426.73778448015435"
        ],
        [
         "2025-01-04 00:00:00",
         "2025-01-04 00:00:00",
         "426.03",
         "426.7428570862406"
        ],
        [
         "2025-01-05 00:00:00",
         "2025-01-05 00:00:00",
         "426.41",
         "426.7244247044777"
        ]
       ],
       "shape": {
        "columns": 3,
        "rows": 5
       }
      },
      "text/html": [
       "<div>\n",
       "<style scoped>\n",
       "    .dataframe tbody tr th:only-of-type {\n",
       "        vertical-align: middle;\n",
       "    }\n",
       "\n",
       "    .dataframe tbody tr th {\n",
       "        vertical-align: top;\n",
       "    }\n",
       "\n",
       "    .dataframe thead th {\n",
       "        text-align: right;\n",
       "    }\n",
       "</style>\n",
       "<table border=\"1\" class=\"dataframe\">\n",
       "  <thead>\n",
       "    <tr style=\"text-align: right;\">\n",
       "      <th></th>\n",
       "      <th>Date</th>\n",
       "      <th>Actual</th>\n",
       "      <th>Predicted</th>\n",
       "    </tr>\n",
       "  </thead>\n",
       "  <tbody>\n",
       "    <tr>\n",
       "      <th>2025-01-01</th>\n",
       "      <td>2025-01-01</td>\n",
       "      <td>425.94</td>\n",
       "      <td>426.706268</td>\n",
       "    </tr>\n",
       "    <tr>\n",
       "      <th>2025-01-02</th>\n",
       "      <td>2025-01-02</td>\n",
       "      <td>426.27</td>\n",
       "      <td>426.714227</td>\n",
       "    </tr>\n",
       "    <tr>\n",
       "      <th>2025-01-03</th>\n",
       "      <td>2025-01-03</td>\n",
       "      <td>426.13</td>\n",
       "      <td>426.737784</td>\n",
       "    </tr>\n",
       "    <tr>\n",
       "      <th>2025-01-04</th>\n",
       "      <td>2025-01-04</td>\n",
       "      <td>426.03</td>\n",
       "      <td>426.742857</td>\n",
       "    </tr>\n",
       "    <tr>\n",
       "      <th>2025-01-05</th>\n",
       "      <td>2025-01-05</td>\n",
       "      <td>426.41</td>\n",
       "      <td>426.724425</td>\n",
       "    </tr>\n",
       "  </tbody>\n",
       "</table>\n",
       "</div>"
      ],
      "text/plain": [
       "                 Date  Actual   Predicted\n",
       "2025-01-01 2025-01-01  425.94  426.706268\n",
       "2025-01-02 2025-01-02  426.27  426.714227\n",
       "2025-01-03 2025-01-03  426.13  426.737784\n",
       "2025-01-04 2025-01-04  426.03  426.742857\n",
       "2025-01-05 2025-01-05  426.41  426.724425"
      ]
     },
     "execution_count": 47,
     "metadata": {},
     "output_type": "execute_result"
    }
   ],
   "source": [
    "# Create a DataFrame with Date, Actual and Predicted values\n",
    "predictions_df = pd.DataFrame({\n",
    "    'Date': forecast.index,\n",
    "    'Actual': test_data['CO2'].loc[forecast.index],\n",
    "    'Predicted': forecast\n",
    "})\n",
    "\n",
    "# Preview the DataFrame\n",
    "predictions_df.head()"
   ]
  },
  {
   "cell_type": "code",
   "execution_count": 49,
   "metadata": {},
   "outputs": [
    {
     "name": "stdout",
     "output_type": "stream",
     "text": [
      "RMSE: 1.166283007037824\n",
      "MAE: 0.8517337815681384\n",
      "Accuracy: 99.80118997059755%\n"
     ]
    }
   ],
   "source": [
    "# Calculate RMSE, MAE, and accuracy\n",
    "rmse = np.sqrt(mean_squared_error(predictions_df['Actual'], predictions_df['Predicted']))\n",
    "mae = mean_absolute_error(predictions_df['Actual'], predictions_df['Predicted'])\n",
    "accuracy = 100 * (1 - (abs(predictions_df['Actual'] - predictions_df['Predicted']) / predictions_df['Actual']).mean())\n",
    "\n",
    "# Print the evaluation metrics\n",
    "print(f'RMSE: {rmse}')\n",
    "print(f'MAE: {mae}')\n",
    "print(f'Accuracy: {accuracy}%')"
   ]
  },
  {
   "cell_type": "code",
   "execution_count": 50,
   "metadata": {},
   "outputs": [
    {
     "name": "stdout",
     "output_type": "stream",
     "text": [
      "Predictions saved in Predictions/theta_predictions.csv\n"
     ]
    }
   ],
   "source": [
    "# Save the predictions to a CSV file in the Predictions folder\n",
    "predictions_df.to_csv('Predictions/theta_predictions.csv', index=False)\n",
    "\n",
    "print(\"Predictions saved in Predictions/theta_predictions.csv\")"
   ]
  }
 ],
 "metadata": {
  "kernelspec": {
   "display_name": "Python 3",
   "language": "python",
   "name": "python3"
  },
  "language_info": {
   "name": "python",
   "version": "3.9.6"
  }
 },
 "nbformat": 4,
 "nbformat_minor": 2
}
